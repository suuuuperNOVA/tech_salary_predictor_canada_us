{
 "cells": [
  {
   "cell_type": "markdown",
   "id": "9dc3bd70-b851-4971-b8fd-32569fb616d0",
   "metadata": {},
   "source": [
    "# Salary predictor for tech employees in Canada based on survey data"
   ]
  },
  {
   "cell_type": "markdown",
   "id": "fad5f963-565d-44a2-86f0-efa177fb7c47",
   "metadata": {},
   "source": [
    "## Summary\n",
    "\n",
    "Here we attempt to build the model to predict the income of tech employees in Canada by using a multi-linear regression model based on the following features: years of coding experience, programming languages used, education level, and role. After the hyperparameter tuning process, $R^2$ of the training data set increases from 0.67 to 0.72, and the model is also tested on the testing data set with $R^2 = 0.71$, which is consistent with the training result. Besides, there are 3 points that we want to explore further in the future: to find other explanatory variables that might give us a better score, to include the United States in our model, to identify the best features that contribute to the prediction."
   ]
  },
  {
   "cell_type": "markdown",
   "id": "e7a99f14-8e32-4053-8f1a-b9e4c2cf1ef8",
   "metadata": {},
   "source": [
    "## Introduction\n",
    "\n",
    "The aim of this project is to allow tech employees in Canada to get a reasonable estimation of how much they will potentially earn given their skill set and years of experience. Fresh graduates and seasoned employees would benefit from an analysis tool that allows them to predict their earning potential. While the Human Resources (HR) department of companies has access to this market information, tech employees are mostly clueless about what their market value is. Therefore, a salary predictor tool could assist them in the negotiation process."
   ]
  },
  {
   "cell_type": "markdown",
   "id": "7f98b623-45a7-41cd-a66f-7cdffdb94cde",
   "metadata": {},
   "source": [
    "## Methods\n",
    "### Data\n",
    "The data set used in this project is from the [Stack Overflow Annual Developer Survey](https://insights.stackoverflow.com/survey), which is conducted annually. The survey data set has nearly 80,000 responses. There are several useful features that could be extracted from this survey such as education level, location, the language used, job type, all of which are potentially associated with annual compensation {cite}`stack_overflow_survey`.\n",
    "\n",
    "### Exploratory Data Analysis\n",
    "After performing EDA on the training data set,  there are several points worth mentioning. The distribution of the response variable, salary, is positively skewed with a fat tail, as shown in Fig. 1 {cite}`vanderplas2018altair`. This attribute is undesirable, which makes the model less robust. So, extremely high salaries (top 8%) in our training data set will be defined as outliers that are removed in the preprocessing step.<br>\n",
    "\n",
    "```{figure} ../results/salary_density_plot.png\n",
    "---\n",
    "height: 400px\n",
    "name: salary_density\n",
    "---\n",
    "Density plot of salary\n",
    "```\n",
    "\n",
    "Among all the features investigated, it can be found that the salary is strongly correlated to the number of professional coding years. Fig.2 clearly shows that there is a linear relationship between the number of professional coding years and the salary. Figure.3 displays both effects of professional coding years and languages mastered on the salary.\n",
    "\n",
    "```{figure} ../results/code_years_plot.png\n",
    "---\n",
    "height: 400px\n",
    "name: code_years_plot\n",
    "---\n",
    "Number of coding years is strongly correlated to salary.\n",
    "```\n",
    "\n",
    "```{figure} ../results/language_codeyears_plot.png\n",
    "---\n",
    "height: 150px\n",
    "name: language_code_years_plot\n",
    "---\n",
    "The more languages mastered and the more years in professional experience, the higher salary expected.\n",
    "```\n",
    "\n",
    "Figures below present how other 3 features we selected have significant effects on the income level.\n",
    "```{figure} ../results/edu_plot.png\n",
    "---\n",
    "height: 150px\n",
    "name: edu_plot\n",
    "---\n",
    "Education levels is positively related to salary.\n",
    "```\n",
    "```{figure} ../results/language_plot.png\n",
    "---\n",
    "height: 150px\n",
    "name: lang_plot\n",
    "---\n",
    "Programming languages is associated with salary\n",
    "```\n",
    "```{figure} ../results/role_plot.png\n",
    "---\n",
    "height: 150px\n",
    "name: role_plot\n",
    "---\n",
    "Roles are related to salary\n",
    "```\n",
    "### Model\n",
    "In light of EDA and recommendations from Stack Overflow, 4 features are extracted that are duration for being a profession, education level, programming language worked with and job position. Then, the regression equation can be obtained:<br>\n",
    "\n",
    "$$ \n",
    "    Y_{salary} = w^T X + b\n",
    "$$\n",
    "\n",
    "*where w is the weight vector, X is the feature vector, b is the error term, $Y_{salary}$ is predicted variable.* <br>\n",
    "\n",
    "Within the training data set, randomized hyperparameter searching was also carried out based on the scoring matrix, $R^2$."
   ]
  },
  {
   "cell_type": "markdown",
   "id": "0c00774a-7396-43d9-ab50-d7ee4ebb145f",
   "metadata": {},
   "source": [
    "# Results and Discussion"
   ]
  },
  {
   "cell_type": "code",
   "execution_count": 3,
   "id": "7ce92dc1-439f-4eb7-b1d2-28e83d50f467",
   "metadata": {
    "tags": [
     "hide-cell"
    ]
   },
   "outputs": [
    {
     "name": "stderr",
     "output_type": "stream",
     "text": [
      "/Users/supernova/opt/anaconda3/lib/python3.8/site-packages/sklearn/base.py:310: UserWarning: Trying to unpickle estimator SimpleImputer from version 1.0.1 when using version 0.24.1. This might lead to breaking code or invalid results. Use at your own risk.\n",
      "  warnings.warn(\n",
      "/Users/supernova/opt/anaconda3/lib/python3.8/site-packages/sklearn/base.py:310: UserWarning: Trying to unpickle estimator StandardScaler from version 1.0.1 when using version 0.24.1. This might lead to breaking code or invalid results. Use at your own risk.\n",
      "  warnings.warn(\n",
      "/Users/supernova/opt/anaconda3/lib/python3.8/site-packages/sklearn/base.py:310: UserWarning: Trying to unpickle estimator Pipeline from version 1.0.1 when using version 0.24.1. This might lead to breaking code or invalid results. Use at your own risk.\n",
      "  warnings.warn(\n",
      "/Users/supernova/opt/anaconda3/lib/python3.8/site-packages/sklearn/base.py:310: UserWarning: Trying to unpickle estimator OneHotEncoder from version 1.0.1 when using version 0.24.1. This might lead to breaking code or invalid results. Use at your own risk.\n",
      "  warnings.warn(\n",
      "/Users/supernova/opt/anaconda3/lib/python3.8/site-packages/sklearn/base.py:310: UserWarning: Trying to unpickle estimator ColumnTransformer from version 1.0.1 when using version 0.24.1. This might lead to breaking code or invalid results. Use at your own risk.\n",
      "  warnings.warn(\n",
      "/Users/supernova/opt/anaconda3/lib/python3.8/site-packages/sklearn/base.py:310: UserWarning: Trying to unpickle estimator Ridge from version 1.0.1 when using version 0.24.1. This might lead to breaking code or invalid results. Use at your own risk.\n",
      "  warnings.warn(\n",
      "/Users/supernova/opt/anaconda3/lib/python3.8/site-packages/sklearn/base.py:310: UserWarning: Trying to unpickle estimator RandomizedSearchCV from version 1.0.1 when using version 0.24.1. This might lead to breaking code or invalid results. Use at your own risk.\n",
      "  warnings.warn(\n"
     ]
    },
    {
     "data": {
      "text/plain": [
       "0.091"
      ]
     },
     "metadata": {
      "scrapbook": {
       "mime_prefix": "",
       "name": "alpha_coef"
      }
     },
     "output_type": "display_data"
    },
    {
     "data": {
      "text/plain": [
       "0.725"
      ]
     },
     "metadata": {
      "scrapbook": {
       "mime_prefix": "",
       "name": "R2"
      }
     },
     "output_type": "display_data"
    },
    {
     "data": {
      "text/plain": [
       "0.718"
      ]
     },
     "metadata": {
      "scrapbook": {
       "mime_prefix": "",
       "name": "R2_test"
      }
     },
     "output_type": "display_data"
    }
   ],
   "source": [
    "from joblib import dump, load\n",
    "import pandas as pd\n",
    "from myst_nb import glue\n",
    "import altair as alt\n",
    "from altair_saver import save\n",
    "alt.data_transformers.enable('data_server')\n",
    "alt.renderers.enable('mimetype')\n",
    "\n",
    "\n",
    "pipe_loaded = load('../results/best_model_pipe.joblib')\n",
    "alpha = round(pipe_loaded.best_params_['ridge__alpha'], 3)\n",
    "rsquare = round(pipe_loaded.best_score_, 3)\n",
    "glue(\"alpha_coef\", alpha);\n",
    "glue(\"R2\", rsquare);\n",
    "\n",
    "test_result_loaded = load('../results/test_result.joblib')\n",
    "rsquare_test = round(test_result_loaded[\"r_sq_test\"], 3)\n",
    "glue(\"R2_test\", rsquare_test);\n",
    "\n",
    "test_df = pd.read_csv(\"../data/processed/test.csv\")\n",
    "y_test = test_df.ConvertedComp.tolist()\n",
    "y_predict = test_result_loaded[\"predict_y\"].tolist()\n",
    "result = {\"true_y\": y_test, \"predicted_y\": y_predict}\n",
    "df_result = pd.DataFrame(data=result)\n",
    "df_result.head(5)\n",
    "\n",
    "df_diag = pd.DataFrame(data={\"true_y\": [0, max(df_result.true_y)+500],\n",
    "                             \"predicted_y\":[0, max(df_result.true_y)+500]})\n",
    "\n",
    "plt1 = alt.Chart(df_result).mark_point(opacity=0.5).encode(\n",
    "    alt.X(\"predicted_y\", title=\"Predicted salary\"),\n",
    "    alt.Y(\"true_y\", title=\"True salary\")\n",
    ") + alt.Chart(df_diag).mark_line(color='red').encode(\n",
    "    alt.X(\"predicted_y\", title=\"Predicted salary\"),\n",
    "    alt.Y(\"true_y\", title=\"True salary\")\n",
    ")\n",
    "plt1.save(\"../results/test_data_result.png\")"
   ]
  },
  {
   "cell_type": "markdown",
   "id": "2354c2ff-cbd5-445f-a8f6-fa854c7837cb",
   "metadata": {},
   "source": [
    "The hyperparameter tuning result shows that the model is at the best performance when alpha = {glue:text}`alpha_coef` with a training $R^2$  of {glue:text}`R2` as shown in the figure below.\n",
    "\n",
    "```{figure} ../results/alpha-tuning.png\n",
    "---\n",
    "height: 400px\n",
    "name: alpha-tuning\n",
    "---\n",
    "Hyperparameter searching\n",
    "```\n",
    "Applying the fitted model to the test data set, we get  a testing $R^2$ of {glue:text}`R2_test`.<br>"
   ]
  },
  {
   "cell_type": "markdown",
   "id": "a0749a47-16f1-4fcb-bc27-d2c69c0f9892",
   "metadata": {},
   "source": [
    "After identifying the most important features, we built multiple linear regression models with the annual salary as our response variable and the following predictors: years of coding experience, programming languages used, education level, and role. Since our target is a continuous variable, regression made sense here.<br>\n",
    "\n",
    "We carried out hyper-parameter tuning via cross validation with `RandomizedSearchCV`. This allowed us to find optimal parameters which improved our validation score from 67% to 72%. We tested the final model on our test data (20% of the survey data) and the model performed well on the test data with an accuracy of 71%. As you can see in Fig 7, the model is slightly under predicting or over-predicting, but the fit seems to be good. This is a decent score that indicates that our model generalizes enough and should perform well on unseen examples.\n",
    "\n",
    "```{figure} ../results/test_data_result.png\n",
    "---\n",
    "height: 400px\n",
    "name: test_data_result\n",
    "---\n",
    "Predicted salary VS. observed salary: the fitted model can fairly predict the salary.\n",
    "```\n",
    "In the future, we plan to do two important changes; exploring other explanatory variables that might give us a better score, and including the United States in our model. In order to identify the best features that contribute to the prediction, we will include all the sensible columns in the original survey, and perform model and feature selection. We hope that this will help us discover more features that are important for the annual compensation prediction of tech employees."
   ]
  },
  {
   "cell_type": "markdown",
   "id": "8343cec0-c095-43f5-af0f-8b3e902ba9e4",
   "metadata": {},
   "source": [
    "# Reference\n",
    "\n",
    "```{bibliography}\n",
    ":style: unsrtalpha\n",
    ":all:\n",
    "\n",
    "```"
   ]
  },
  {
   "cell_type": "code",
   "execution_count": null,
   "id": "620a44a1-956a-4e12-8bb9-b095a4ab46f5",
   "metadata": {},
   "outputs": [],
   "source": []
  }
 ],
 "metadata": {
  "kernelspec": {
   "display_name": "Python 3",
   "language": "python",
   "name": "python3"
  },
  "language_info": {
   "codemirror_mode": {
    "name": "ipython",
    "version": 3
   },
   "file_extension": ".py",
   "mimetype": "text/x-python",
   "name": "python",
   "nbconvert_exporter": "python",
   "pygments_lexer": "ipython3",
   "version": "3.8.8"
  }
 },
 "nbformat": 4,
 "nbformat_minor": 5
}
